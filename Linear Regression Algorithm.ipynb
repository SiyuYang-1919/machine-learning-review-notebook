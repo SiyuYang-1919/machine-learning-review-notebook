{
 "cells": [
  {
   "cell_type": "markdown",
   "metadata": {},
   "source": [
    "### Some background knowledge:\n",
    "- The cost function of a general linear regression:\n",
    "$$ J(\\theta) = J({\\theta}_0,...{\\theta}_n) = \\frac{1}{2}\\sum_{i=1}^{n}(y_i-{\\theta}^{T}h(x_i))^2 $$\n",
    "- The math equation of the Gaussian distribution:\n",
    "$$ f(x) = \\frac{1}{\\sigma \\sqrt{2\\pi}} e^{-{\\frac{1}{2}}(\\frac{x-\\mu}{\\sigma})^2} $$\n",
    "- The Maximum Likelihood Estimation:\n",
    "  - A method of estimating the parameters of a probability distribution by maximizing a likelihood function, so that under the assumed statistical model the observed data is most probable. \n",
    "  - The idea is to transfer solving the density function directly to solveing parameters for the Likelihood Function (the product of univariate density function with unknown parameters to be solved for independent and identically distributed random variables).\n",
    "  - The general likelihood function:\n",
    "$$ L(\\theta) = f(x_1,...,x_n|\\theta) = \\prod_{i=1}^n f(x_i|\\theta) $$\n",
    "$$ log(L(\\theta)) = log(\\underset{\\theta} {\\textrm{arg max}} \\prod_{i=1}^n f(x_i|\\theta)) $$\n",
    ", where\n",
    "$$ \\theta = {\\theta_1, \\theta_2,..., \\theta_i} $$\n",
    "To solve $\\theta$, we write the partial derivatives for each parameters and let them equal to 0, then solve the parameters.\n",
    "$$\\frac{\\partial}{\\partial {\\theta_i}} = 0 $$\n",
    "  - ```Why we use 'log' (we usually use the natural log): ```\n",
    "When $a$ in ${log_a}()$ is greater than 1, the $x$ can be limitlessly large when the slope $k$ equals 0, that is, when the slope $k = 0$, $y$ can get its maximum value."
   ]
  },
  {
   "cell_type": "markdown",
   "metadata": {},
   "source": [
    "### Proof:\n",
    "- Now we assume that $y = {\\theta}^{T}h(x_i) + \\epsilon$, where $\\epsilon$ ~ $N(0, {\\sigma}^2)$ ; this implies that $y|x_i$ ~ $ N({\\theta}^{T}h(x_i), {\\sigma}^2) $\n",
    "- The likelihood function (for all data) can be expressed as:\n",
    "  $$ L(y_1,...,y_i, x_1,...,x_i|\\theta) = \\prod_{i=1}^n \\frac{1}{\\sigma \\sqrt{2\\pi}} e^{-{\\frac{1}{2}}(\\frac{y_i-{\\theta}^{T}h(x_i)}{\\sigma})^2} $$\n",
    "  here, we want to solve the parameters, $\\theta ( = {\\theta_1, \\theta_2,..., \\theta_i})$, that can make this model (distribution) most probable. Traditionally, to maximize the likelihood function, we should let the slope $k$ of $log(L(\\theta))$ equal to 0, that is, let the partial derivative of $log(L(\\theta))$ equal to 0. \n",
    "- We can also maximize the output of the likelihood function by minimizing its negative log function, $-log(L(\\theta))$:\n",
    "  $$ maximize \\quad log(L(\\theta)) = log(\\prod_{i=1}^n \\frac{1}{\\sigma \\sqrt{2\\pi}} e^{-{\\frac{1}{2}}(\\frac{y_i-{\\theta}^{T}h(x_i)}{\\sigma})^2}) $$\n",
    "  is equivalent to\n",
    "  $$ minimize -log(L(y|x_i)) = - log(\\prod_{i=1}^n \\frac{1}{\\sigma \\sqrt{2\\pi}} e^{-{\\frac{1}{2}}(\\frac{y_i-{\\theta}^{T}h(x_i)}{\\sigma})^2}) $$\n",
    "  $$ = \\sum_{i=1}^n \\frac{1}{2}(\\frac{y_i-{\\theta}^{T}h(x_i)}{\\sigma})^2 + \\sum_{i=1}^n log(\\sigma \\sqrt{2\\pi}) $$\n",
    "  $$ = \\sum_{i=1}^n \\frac{({{y_i}-{\\theta}^{T}h(x_i)})^2}{2{\\sigma}^2} + \\sum_{i=1}^n log(\\sigma \\sqrt{2\\pi}) $$\n",
    "- As $\\frac{1}{{\\sigma}^2}$ and $\\sum_{i=1}^n log(\\sigma \\sqrt{2\\pi})$ are constant (we know the value of $\\sigma$), to maximize the likelihood function, we only need to minimize \n",
    "  $$\\sum_{i=1}^n \\frac{1}{2}({{y_i}-{\\theta}^{T}h(x_i)})^2$$\n",
    ", the same as the cost function, $\\frac{1}{2}\\sum_{i=1}^{n}(y_i-{\\theta}^{T}h(x_i))^2 $\n",
    "-  Therefore, we can say that minimizing the cost function is equivalent to maximizing the likelihood of our model, regardless of the value of $\\sigma$."
   ]
  }
 ],
 "metadata": {
  "kernelspec": {
   "display_name": "Python 3",
   "language": "python",
   "name": "python3"
  },
  "language_info": {
   "codemirror_mode": {
    "name": "ipython",
    "version": 3
   },
   "file_extension": ".py",
   "mimetype": "text/x-python",
   "name": "python",
   "nbconvert_exporter": "python",
   "pygments_lexer": "ipython3",
   "version": "3.8.5"
  }
 },
 "nbformat": 4,
 "nbformat_minor": 2
}