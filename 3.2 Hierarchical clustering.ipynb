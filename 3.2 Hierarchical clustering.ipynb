{
 "metadata": {
  "language_info": {
   "codemirror_mode": {
    "name": "ipython",
    "version": 3
   },
   "file_extension": ".py",
   "mimetype": "text/x-python",
   "name": "python",
   "nbconvert_exporter": "python",
   "pygments_lexer": "ipython3",
   "version": 3
  },
  "orig_nbformat": 2
 },
 "nbformat": 4,
 "nbformat_minor": 2,
 "cells": [
  {
   "source": [
    "### 1. Two methods of hierarchical clustering\n",
    "- Agglomerative (or bottom-up)\n",
    "- Divisive (or top-down)"
   ],
   "cell_type": "markdown",
   "metadata": {}
  },
  {
   "source": [
    "### 2. Three elements of agglomerative clustering\n",
    "- Distance and similarity\n",
    "- Agoolomerative rules\n",
    "- Stopping condition\n",
    "![Alt text](images/3.2.1.png)"
   ],
   "cell_type": "markdown",
   "metadata": {}
  },
  {
   "cell_type": "code",
   "execution_count": null,
   "metadata": {},
   "outputs": [],
   "source": [
    "### 3. Example\n",
    "Given the Euclidean distance matrix "
   ]
  }
 ]
}