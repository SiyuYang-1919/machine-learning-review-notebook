{
 "metadata": {
  "language_info": {
   "codemirror_mode": {
    "name": "ipython",
    "version": 3
   },
   "file_extension": ".py",
   "mimetype": "text/x-python",
   "name": "python",
   "nbconvert_exporter": "python",
   "pygments_lexer": "ipython3",
   "version": 3
  },
  "orig_nbformat": 2
 },
 "nbformat": 4,
 "nbformat_minor": 2,
 "cells": [
  {
   "source": [
    "### 1. Decision tree - overview\n",
    "![1](images/2.4.1.png)"
   ],
   "cell_type": "markdown",
   "metadata": {}
  },
  {
   "source": [
    "### 2. How to choose the attribute for a node?\n",
    "- ID3 algorithm only generates decision tree and uses information gain to decide the attribute for a node;\n",
    "![2](images/2.4.2.png)\n",
    "- Example:\n",
    "注意是$H(D|A)$:\n",
    "![3](images/2.4.3.png)\n",
    "![7](images/2.4.7.png)\n",
    "- C4.5 algorithm includes pruning algorithm and uses information gain ratio to decide the attribute for a node.\n",
    "![4](images/2.4.4.png)"
   ],
   "cell_type": "markdown",
   "metadata": {}
  },
  {
   "source": [
    "### 3. Cost function and pruning\n",
    "\n",
    "#### 3.1 Cost function\n",
    "$$ C_{\\alpha}(T) = \\sum_{t=1}^{|T|} N_{(t)} H_{t}(T) + \\alpha |T| $$\n",
    ", where $H_{t}(T)$ is the entropy of the leaf node t:\n",
    "$$ H_{t}(T) = -\\sum_{k}\\frac{N_{tk}}{N_{t}}log \\frac{N_{tk}}{N_{t}} $$\n",
    "$\\alpha$ is to control the balance between the prediction error and model complexity.\n",
    "\n",
    "#### 3.2 Pruning\n",
    "![5](images/2.4.5.png)\n",
    "![6](images/2.4.6.png)"
   ],
   "cell_type": "markdown",
   "metadata": {}
  },
  {
   "source": [
    "### 4. Pros and cons\n",
    "- Pros:\n",
    "  - interpretable;\n",
    "  - can handle missing data;\n",
    "  - compact;\n",
    "  - fast\n",
    "- Cons:\n",
    "  - for regressions, only axis-alighed;\n",
    "  - greedy"
   ],
   "cell_type": "markdown",
   "metadata": {}
  }
 ]
}