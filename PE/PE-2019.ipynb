{
 "metadata": {
  "language_info": {
   "codemirror_mode": {
    "name": "ipython",
    "version": 3
   },
   "file_extension": ".py",
   "mimetype": "text/x-python",
   "name": "python",
   "nbconvert_exporter": "python",
   "pygments_lexer": "ipython3",
   "version": "3.8.5"
  },
  "orig_nbformat": 2,
  "kernelspec": {
   "name": "python385jvsc74a57bd0dca0ade3e726a953b501b15e8e990130d2b7799f14cfd9f4271676035ebe5511",
   "display_name": "Python 3.8.5 64-bit ('base': conda)"
  }
 },
 "nbformat": 4,
 "nbformat_minor": 2,
 "cells": [
  {
   "source": [
    "### 1. (a) Data preparation and understanding\n",
    "#### (1)\n",
    "The main difference between categorical data and ordinal data is that ordinal data have clear ordering, that is, after encoded as numbers, the values of number should reflect their sequence whereas the values of number do not. An example of categirical data: green, blue, red; an example of ordinal data: light green, green, dark green (or low, medium, high).\n",
    "\n",
    "#### (2)\n",
    "1 of K encoding is when there are K categories in a variable, K binary variables will be created. The value in the $i_{th}$ will be 1 for the $i_{th}$ binary variable and 0 otherwise.This method can convert categorical labels into numbers without incorporating the natural ordered relationship in sequential numbers. \n",
    "\n",
    "#### (3)\n",
    "The ordering information will be missed if 1 of K encoding is used for ordinal data."
   ],
   "cell_type": "markdown",
   "metadata": {}
  },
  {
   "source": [
    "### (4)\n",
    "- a. I would choose $r$ to build the predictor as the histogram of this attribute has the least overlap for two classes.\n",
    "- b. I would choose $r, s$ to build the predictor as from the scatterplot of data represents by these two attributes, we can easily see two clusters of data belong to two classes respectively and the decision boundary is very clear as well.\n",
    "- c. I would choose $r, p$ to build the predictor. (?)"
   ],
   "cell_type": "markdown",
   "metadata": {}
  },
  {
   "source": [
    "### (b) Clustering\n",
    "#### (1)\n",
    "The K-means algorithm helps to solve the optimal model by performing iterations:\n",
    "- Step 1: initiate centroids and minimize its objective function. The solution to the optimization is to assign each sample to the cluster where its nearest centriod belongs to. Assign each sample.\n",
    "- Step 2: calculate the centroid of each cluster and assign the samples again.\n",
    "- Stop until no clustering assignment changes, that is, the optimization is converged."
   ],
   "cell_type": "markdown",
   "metadata": {}
  },
  {
   "source": [
    "#### (2)\n",
    "The objective function that K-means is optimizing is: \n",
    "$$ \\sum_{j} \\sum_{x_{i} -> C_{j}} ||x_{i} - \\mu_{j}||^2$$\n",
    "This function represents the sum of distances between each sample and the centroid of the cluster the sample is clustered into. This algorithm, a heuristic algorithmi, is very likely to converge to a local minimum."
   ],
   "cell_type": "markdown",
   "metadata": {}
  },
  {
   "source": [
    "#### (3)\n",
    "- Calculate the distance between each sample with the starting centroids:\n",
    "$$ d(x_{1}, \\mu_{1}) = 1, d(x_{1}, \\mu_{2}) = 9 $$, assigned to cluster 1\n",
    "$$ d(x_{2}, \\mu_{1}) = 2, d(x_{2}, \\mu_{2}) = 8 $$, assigned to cluster 1\n",
    "$$ d(x_{3}, \\mu_{1}) = 4, d(x_{3}, \\mu_{2}) = 6 $$, assigned to cluster 1\n",
    "$$ d(x_{4}, \\mu_{1}) = 7, d(x_{4}, \\mu_{2}) = 3 $$, assigned to cluster 2\n",
    "$$ d(x_{5}, \\mu_{1}) = 11, d(x_{5}, \\mu_{2}) = 1 $$, assigned to cluster 2\n",
    "$$ d(x_{6}, \\mu_{1}) = 16, d(x_{6}, \\mu_{2}) = 6 $$, assigned to cluster 2\n",
    "$$ d(x_{7}, \\mu_{1}) = 17, d(x_{7}, \\mu_{2}) = 7 $$, assigned to cluster 2\n",
    "- Update the locations of centroids and assign samples again:\n",
    "$$ \\mu_{1} = \\frac{-6-5-3}{3} = \\frac{-14}{3} $$\n",
    "$$ \\mu_{2} = \\frac{0+4+9+10}{4} = \\frac{23}{4} $$\n",
    "$$ d(x_{1}, \\mu_{1}) = \\frac{4}{3}, d(x_{1}, \\mu_{2}) = \\frac{49}{4} $$, assigned to cluster 1\n",
    "$$ d(x_{2}, \\mu_{1}) = \\frac{1}{3}, d(x_{2}, \\mu_{2}) = \\frac{43}{4}  $$, assigned to cluster 1\n",
    "$$ d(x_{3}, \\mu_{1}) = \\frac{5}{3}, d(x_{3}, \\mu_{2}) = \\frac{35}{4} $$, assigned to cluster 1\n",
    "$$ d(x_{4}, \\mu_{1}) = \\frac{14}{3}, d(x_{4}, \\mu_{2}) = \\frac{23}{4} $$, assigned to cluster 1\n",
    "$$ d(x_{5}, \\mu_{1}) = \\frac{26}{3}, d(x_{5}, \\mu_{2}) = \\frac{7}{4} $$, assigned to cluster 2\n",
    "$$ d(x_{6}, \\mu_{1}) = \\frac{41}{3}, d(x_{6}, \\mu_{2}) = \\frac{13}{4} $$, assigned to cluster 2\n",
    "$$ d(x_{7}, \\mu_{1}) = \\frac{44}{3}, d(x_{7}, \\mu_{2}) = \\frac{17}{4} $$, assigned to cluster 2\n",
    "- To know whether the objective function has converged, we only need to test whether the assignment of $x_{5}$ would change:\n",
    "  - The new centroids: $$ \\mu_{1} = \\frac{-6-5-3}{3} = \\frac{-14}{3} $$, $$ \\mu_{2} = \\frac{0+4+9+10}{4} = \\frac{23}{4} $$, have not changed, therefore, the assignment of any sample will not change as well. Two iterations will be enough."
   ],
   "cell_type": "markdown",
   "metadata": {}
  },
  {
   "source": [
    "#### (4)\n",
    "The K-means algorithm can produce a hierarchy of clusters by recursively running the algorithm on points in $C_{i}$; the difference between agglomerative clustering is that HK-means performs a top-down (or devisive) strategy whereas agglomerative clustering uses a bottom-up strategy, which considers each sample a cluster and then emerge these clusters with certain criterions until all the samples are incorporated in a single one."
   ],
   "cell_type": "markdown",
   "metadata": {}
  },
  {
   "source": [
    "### 2. (a) PCA\n",
    "#### (1)\n",
    "- The equation of covariance matrix: $ C = \\frac{1}{n} (\\mathbf{x_{1}}-\\mu_{1}, \\mathbf{x_{2}-\\mu_{2}},..., \\mathbf{x_{n}-\\mu_{n}})(\\mathbf{x_{1}-\\mu_{1}}, \\mathbf{x_{2}-\\mu_{2}},..., \\mathbf{x_{n}-\\mu_{n}})^T $\n",
    "- $$ X = \n",
    " \\left[\n",
    " \\begin{matrix}\n",
    "   -1&1\\\\\n",
    "   -1&-1\\\\\n",
    "   2&0\\\\\n",
    "  \\end{matrix}\n",
    "  \\right]\n",
    "  $$\n",
    "$$ \\Sigma = \n",
    "  \\left[\n",
    " \\begin{matrix}\n",
    "   x_{1}*x_{1}^T&x_{1}*x_{2}^T\\\\\n",
    "   x_{2}*x_{1}^T&x_{2}*x_{2}^T\\\\\n",
    "  \\end{matrix}\n",
    "  \\right]\n",
    "  = \n",
    "   \\left[\n",
    " \\begin{matrix}\n",
    "   2&0\\\\\n",
    "   0&\\frac{2}{3}\\\\\n",
    "  \\end{matrix}\n",
    "  \\right]\n",
    "  $$"
   ],
   "cell_type": "markdown",
   "metadata": {}
  },
  {
   "source": [
    "#### (2)\n",
    "eigenvectors: \n",
    "$$\n",
    " \\left[\n",
    " \\begin{matrix}\n",
    "  1\\\\\n",
    "  0\n",
    "  \\end{matrix}\n",
    "  \\right]\n",
    "  $$\n",
    "  $$\n",
    " \\left[\n",
    " \\begin{matrix}\n",
    "  0\\\\\n",
    "  1\n",
    "  \\end{matrix}\n",
    "  \\right]\n",
    "  $$\n",
    "\n",
    "#### (3)\n",
    "eigenvalues: 2, 2/3\n",
    "\n",
    "#### (4)\n",
    "FV = $\\frac{\\sum_{i=1}^k \\lambda_{i}}{\\sum_{i=1}^m \\lambda_{i}}$\n",
    "FV = $\\frac{\\sum_{i=1}^1 \\lambda_{i}}{\\sum_{i=1}^2 \\lambda_{i}} = \\frac{3}{4} = 0.75$\n",
    "\n",
    "#### (5)\n",
    "The reason that the leading eigenvector lies in the direction is because the variance of projections of original data (which is equal to the eigenvalue) is the highest along the direction. This eigenvector is correspondent to the highest eigenvalue."
   ],
   "cell_type": "markdown",
   "metadata": {}
  },
  {
   "cell_type": "code",
   "execution_count": 8,
   "metadata": {},
   "outputs": [
    {
     "output_type": "execute_result",
     "data": {
      "text/plain": [
       "<matplotlib.lines.Line2D at 0x7fe2a2a010d0>"
      ]
     },
     "metadata": {},
     "execution_count": 8
    },
    {
     "output_type": "display_data",
     "data": {
      "text/plain": "<Figure size 432x288 with 1 Axes>",
      "image/svg+xml": "<?xml version=\"1.0\" encoding=\"utf-8\" standalone=\"no\"?>\n<!DOCTYPE svg PUBLIC \"-//W3C//DTD SVG 1.1//EN\"\n  \"http://www.w3.org/Graphics/SVG/1.1/DTD/svg11.dtd\">\n<!-- Created with matplotlib (https://matplotlib.org/) -->\n<svg height=\"248.518125pt\" version=\"1.1\" viewBox=\"0 0 386.845313 248.518125\" width=\"386.845313pt\" xmlns=\"http://www.w3.org/2000/svg\" xmlns:xlink=\"http://www.w3.org/1999/xlink\">\n <metadata>\n  <rdf:RDF xmlns:cc=\"http://creativecommons.org/ns#\" xmlns:dc=\"http://purl.org/dc/elements/1.1/\" xmlns:rdf=\"http://www.w3.org/1999/02/22-rdf-syntax-ns#\">\n   <cc:Work>\n    <dc:type rdf:resource=\"http://purl.org/dc/dcmitype/StillImage\"/>\n    <dc:date>2021-04-28T09:06:26.994123</dc:date>\n    <dc:format>image/svg+xml</dc:format>\n    <dc:creator>\n     <cc:Agent>\n      <dc:title>Matplotlib v3.3.2, https://matplotlib.org/</dc:title>\n     </cc:Agent>\n    </dc:creator>\n   </cc:Work>\n  </rdf:RDF>\n </metadata>\n <defs>\n  <style type=\"text/css\">*{stroke-linecap:butt;stroke-linejoin:round;}</style>\n </defs>\n <g id=\"figure_1\">\n  <g id=\"patch_1\">\n   <path d=\"M 0 248.518125 \nL 386.845313 248.518125 \nL 386.845313 0 \nL 0 0 \nz\n\" style=\"fill:none;\"/>\n  </g>\n  <g id=\"axes_1\">\n   <g id=\"patch_2\">\n    <path d=\"M 44.845313 224.64 \nL 379.645313 224.64 \nL 379.645313 7.2 \nL 44.845313 7.2 \nz\n\" style=\"fill:#ffffff;\"/>\n   </g>\n   <g id=\"PathCollection_1\">\n    <defs>\n     <path d=\"M 0 3 \nC 0.795609 3 1.55874 2.683901 2.12132 2.12132 \nC 2.683901 1.55874 3 0.795609 3 0 \nC 3 -0.795609 2.683901 -1.55874 2.12132 -2.12132 \nC 1.55874 -2.683901 0.795609 -3 0 -3 \nC -0.795609 -3 -1.55874 -2.683901 -2.12132 -2.12132 \nC -2.683901 -1.55874 -3 -0.795609 -3 0 \nC -3 0.795609 -2.683901 1.55874 -2.12132 2.12132 \nC -1.55874 2.683901 -0.795609 3 0 3 \nz\n\" id=\"ma776137cd0\" style=\"stroke:#1f77b4;\"/>\n    </defs>\n    <g clip-path=\"url(#p9152da90be)\">\n     <use style=\"fill:#1f77b4;stroke:#1f77b4;\" x=\"60.063494\" xlink:href=\"#ma776137cd0\" y=\"17.083636\"/>\n     <use style=\"fill:#1f77b4;stroke:#1f77b4;\" x=\"60.063494\" xlink:href=\"#ma776137cd0\" y=\"214.756364\"/>\n     <use style=\"fill:#1f77b4;stroke:#1f77b4;\" x=\"364.427131\" xlink:href=\"#ma776137cd0\" y=\"115.92\"/>\n    </g>\n   </g>\n   <g id=\"matplotlib.axis_1\">\n    <g id=\"xtick_1\">\n     <g id=\"line2d_1\">\n      <defs>\n       <path d=\"M 0 0 \nL 0 3.5 \n\" id=\"m73dd493ff6\" style=\"stroke:#000000;stroke-width:0.8;\"/>\n      </defs>\n      <g>\n       <use style=\"stroke:#000000;stroke-width:0.8;\" x=\"60.063494\" xlink:href=\"#m73dd493ff6\" y=\"224.64\"/>\n      </g>\n     </g>\n     <g id=\"text_1\">\n      <!-- −1.0 -->\n      <g transform=\"translate(47.922088 239.238437)scale(0.1 -0.1)\">\n       <defs>\n        <path d=\"M 10.59375 35.5 \nL 73.1875 35.5 \nL 73.1875 27.203125 \nL 10.59375 27.203125 \nz\n\" id=\"DejaVuSans-8722\"/>\n        <path d=\"M 12.40625 8.296875 \nL 28.515625 8.296875 \nL 28.515625 63.921875 \nL 10.984375 60.40625 \nL 10.984375 69.390625 \nL 28.421875 72.90625 \nL 38.28125 72.90625 \nL 38.28125 8.296875 \nL 54.390625 8.296875 \nL 54.390625 0 \nL 12.40625 0 \nz\n\" id=\"DejaVuSans-49\"/>\n        <path d=\"M 10.6875 12.40625 \nL 21 12.40625 \nL 21 0 \nL 10.6875 0 \nz\n\" id=\"DejaVuSans-46\"/>\n        <path d=\"M 31.78125 66.40625 \nQ 24.171875 66.40625 20.328125 58.90625 \nQ 16.5 51.421875 16.5 36.375 \nQ 16.5 21.390625 20.328125 13.890625 \nQ 24.171875 6.390625 31.78125 6.390625 \nQ 39.453125 6.390625 43.28125 13.890625 \nQ 47.125 21.390625 47.125 36.375 \nQ 47.125 51.421875 43.28125 58.90625 \nQ 39.453125 66.40625 31.78125 66.40625 \nz\nM 31.78125 74.21875 \nQ 44.046875 74.21875 50.515625 64.515625 \nQ 56.984375 54.828125 56.984375 36.375 \nQ 56.984375 17.96875 50.515625 8.265625 \nQ 44.046875 -1.421875 31.78125 -1.421875 \nQ 19.53125 -1.421875 13.0625 8.265625 \nQ 6.59375 17.96875 6.59375 36.375 \nQ 6.59375 54.828125 13.0625 64.515625 \nQ 19.53125 74.21875 31.78125 74.21875 \nz\n\" id=\"DejaVuSans-48\"/>\n       </defs>\n       <use xlink:href=\"#DejaVuSans-8722\"/>\n       <use x=\"83.789062\" xlink:href=\"#DejaVuSans-49\"/>\n       <use x=\"147.412109\" xlink:href=\"#DejaVuSans-46\"/>\n       <use x=\"179.199219\" xlink:href=\"#DejaVuSans-48\"/>\n      </g>\n     </g>\n    </g>\n    <g id=\"xtick_2\">\n     <g id=\"line2d_2\">\n      <g>\n       <use style=\"stroke:#000000;stroke-width:0.8;\" x=\"110.790767\" xlink:href=\"#m73dd493ff6\" y=\"224.64\"/>\n      </g>\n     </g>\n     <g id=\"text_2\">\n      <!-- −0.5 -->\n      <g transform=\"translate(98.649361 239.238437)scale(0.1 -0.1)\">\n       <defs>\n        <path d=\"M 10.796875 72.90625 \nL 49.515625 72.90625 \nL 49.515625 64.59375 \nL 19.828125 64.59375 \nL 19.828125 46.734375 \nQ 21.96875 47.46875 24.109375 47.828125 \nQ 26.265625 48.1875 28.421875 48.1875 \nQ 40.625 48.1875 47.75 41.5 \nQ 54.890625 34.8125 54.890625 23.390625 \nQ 54.890625 11.625 47.5625 5.09375 \nQ 40.234375 -1.421875 26.90625 -1.421875 \nQ 22.3125 -1.421875 17.546875 -0.640625 \nQ 12.796875 0.140625 7.71875 1.703125 \nL 7.71875 11.625 \nQ 12.109375 9.234375 16.796875 8.0625 \nQ 21.484375 6.890625 26.703125 6.890625 \nQ 35.15625 6.890625 40.078125 11.328125 \nQ 45.015625 15.765625 45.015625 23.390625 \nQ 45.015625 31 40.078125 35.4375 \nQ 35.15625 39.890625 26.703125 39.890625 \nQ 22.75 39.890625 18.8125 39.015625 \nQ 14.890625 38.140625 10.796875 36.28125 \nz\n\" id=\"DejaVuSans-53\"/>\n       </defs>\n       <use xlink:href=\"#DejaVuSans-8722\"/>\n       <use x=\"83.789062\" xlink:href=\"#DejaVuSans-48\"/>\n       <use x=\"147.412109\" xlink:href=\"#DejaVuSans-46\"/>\n       <use x=\"179.199219\" xlink:href=\"#DejaVuSans-53\"/>\n      </g>\n     </g>\n    </g>\n    <g id=\"xtick_3\">\n     <g id=\"line2d_3\">\n      <g>\n       <use style=\"stroke:#000000;stroke-width:0.8;\" x=\"161.51804\" xlink:href=\"#m73dd493ff6\" y=\"224.64\"/>\n      </g>\n     </g>\n     <g id=\"text_3\">\n      <!-- 0.0 -->\n      <g transform=\"translate(153.566477 239.238437)scale(0.1 -0.1)\">\n       <use xlink:href=\"#DejaVuSans-48\"/>\n       <use x=\"63.623047\" xlink:href=\"#DejaVuSans-46\"/>\n       <use x=\"95.410156\" xlink:href=\"#DejaVuSans-48\"/>\n      </g>\n     </g>\n    </g>\n    <g id=\"xtick_4\">\n     <g id=\"line2d_4\">\n      <g>\n       <use style=\"stroke:#000000;stroke-width:0.8;\" x=\"212.245313\" xlink:href=\"#m73dd493ff6\" y=\"224.64\"/>\n      </g>\n     </g>\n     <g id=\"text_4\">\n      <!-- 0.5 -->\n      <g transform=\"translate(204.29375 239.238437)scale(0.1 -0.1)\">\n       <use xlink:href=\"#DejaVuSans-48\"/>\n       <use x=\"63.623047\" xlink:href=\"#DejaVuSans-46\"/>\n       <use x=\"95.410156\" xlink:href=\"#DejaVuSans-53\"/>\n      </g>\n     </g>\n    </g>\n    <g id=\"xtick_5\">\n     <g id=\"line2d_5\">\n      <g>\n       <use style=\"stroke:#000000;stroke-width:0.8;\" x=\"262.972585\" xlink:href=\"#m73dd493ff6\" y=\"224.64\"/>\n      </g>\n     </g>\n     <g id=\"text_5\">\n      <!-- 1.0 -->\n      <g transform=\"translate(255.021023 239.238437)scale(0.1 -0.1)\">\n       <use xlink:href=\"#DejaVuSans-49\"/>\n       <use x=\"63.623047\" xlink:href=\"#DejaVuSans-46\"/>\n       <use x=\"95.410156\" xlink:href=\"#DejaVuSans-48\"/>\n      </g>\n     </g>\n    </g>\n    <g id=\"xtick_6\">\n     <g id=\"line2d_6\">\n      <g>\n       <use style=\"stroke:#000000;stroke-width:0.8;\" x=\"313.699858\" xlink:href=\"#m73dd493ff6\" y=\"224.64\"/>\n      </g>\n     </g>\n     <g id=\"text_6\">\n      <!-- 1.5 -->\n      <g transform=\"translate(305.748295 239.238437)scale(0.1 -0.1)\">\n       <use xlink:href=\"#DejaVuSans-49\"/>\n       <use x=\"63.623047\" xlink:href=\"#DejaVuSans-46\"/>\n       <use x=\"95.410156\" xlink:href=\"#DejaVuSans-53\"/>\n      </g>\n     </g>\n    </g>\n    <g id=\"xtick_7\">\n     <g id=\"line2d_7\">\n      <g>\n       <use style=\"stroke:#000000;stroke-width:0.8;\" x=\"364.427131\" xlink:href=\"#m73dd493ff6\" y=\"224.64\"/>\n      </g>\n     </g>\n     <g id=\"text_7\">\n      <!-- 2.0 -->\n      <g transform=\"translate(356.475568 239.238437)scale(0.1 -0.1)\">\n       <defs>\n        <path d=\"M 19.1875 8.296875 \nL 53.609375 8.296875 \nL 53.609375 0 \nL 7.328125 0 \nL 7.328125 8.296875 \nQ 12.9375 14.109375 22.625 23.890625 \nQ 32.328125 33.6875 34.8125 36.53125 \nQ 39.546875 41.84375 41.421875 45.53125 \nQ 43.3125 49.21875 43.3125 52.78125 \nQ 43.3125 58.59375 39.234375 62.25 \nQ 35.15625 65.921875 28.609375 65.921875 \nQ 23.96875 65.921875 18.8125 64.3125 \nQ 13.671875 62.703125 7.8125 59.421875 \nL 7.8125 69.390625 \nQ 13.765625 71.78125 18.9375 73 \nQ 24.125 74.21875 28.421875 74.21875 \nQ 39.75 74.21875 46.484375 68.546875 \nQ 53.21875 62.890625 53.21875 53.421875 \nQ 53.21875 48.921875 51.53125 44.890625 \nQ 49.859375 40.875 45.40625 35.40625 \nQ 44.1875 33.984375 37.640625 27.21875 \nQ 31.109375 20.453125 19.1875 8.296875 \nz\n\" id=\"DejaVuSans-50\"/>\n       </defs>\n       <use xlink:href=\"#DejaVuSans-50\"/>\n       <use x=\"63.623047\" xlink:href=\"#DejaVuSans-46\"/>\n       <use x=\"95.410156\" xlink:href=\"#DejaVuSans-48\"/>\n      </g>\n     </g>\n    </g>\n   </g>\n   <g id=\"matplotlib.axis_2\">\n    <g id=\"ytick_1\">\n     <g id=\"line2d_8\">\n      <defs>\n       <path d=\"M 0 0 \nL -3.5 0 \n\" id=\"m66d7f34ae4\" style=\"stroke:#000000;stroke-width:0.8;\"/>\n      </defs>\n      <g>\n       <use style=\"stroke:#000000;stroke-width:0.8;\" x=\"44.845313\" xlink:href=\"#m66d7f34ae4\" y=\"214.756364\"/>\n      </g>\n     </g>\n     <g id=\"text_8\">\n      <!-- −1.00 -->\n      <g transform=\"translate(7.2 218.555582)scale(0.1 -0.1)\">\n       <use xlink:href=\"#DejaVuSans-8722\"/>\n       <use x=\"83.789062\" xlink:href=\"#DejaVuSans-49\"/>\n       <use x=\"147.412109\" xlink:href=\"#DejaVuSans-46\"/>\n       <use x=\"179.199219\" xlink:href=\"#DejaVuSans-48\"/>\n       <use x=\"242.822266\" xlink:href=\"#DejaVuSans-48\"/>\n      </g>\n     </g>\n    </g>\n    <g id=\"ytick_2\">\n     <g id=\"line2d_9\">\n      <g>\n       <use style=\"stroke:#000000;stroke-width:0.8;\" x=\"44.845313\" xlink:href=\"#m66d7f34ae4\" y=\"190.047273\"/>\n      </g>\n     </g>\n     <g id=\"text_9\">\n      <!-- −0.75 -->\n      <g transform=\"translate(7.2 193.846491)scale(0.1 -0.1)\">\n       <defs>\n        <path d=\"M 8.203125 72.90625 \nL 55.078125 72.90625 \nL 55.078125 68.703125 \nL 28.609375 0 \nL 18.3125 0 \nL 43.21875 64.59375 \nL 8.203125 64.59375 \nz\n\" id=\"DejaVuSans-55\"/>\n       </defs>\n       <use xlink:href=\"#DejaVuSans-8722\"/>\n       <use x=\"83.789062\" xlink:href=\"#DejaVuSans-48\"/>\n       <use x=\"147.412109\" xlink:href=\"#DejaVuSans-46\"/>\n       <use x=\"179.199219\" xlink:href=\"#DejaVuSans-55\"/>\n       <use x=\"242.822266\" xlink:href=\"#DejaVuSans-53\"/>\n      </g>\n     </g>\n    </g>\n    <g id=\"ytick_3\">\n     <g id=\"line2d_10\">\n      <g>\n       <use style=\"stroke:#000000;stroke-width:0.8;\" x=\"44.845313\" xlink:href=\"#m66d7f34ae4\" y=\"165.338182\"/>\n      </g>\n     </g>\n     <g id=\"text_10\">\n      <!-- −0.50 -->\n      <g transform=\"translate(7.2 169.137401)scale(0.1 -0.1)\">\n       <use xlink:href=\"#DejaVuSans-8722\"/>\n       <use x=\"83.789062\" xlink:href=\"#DejaVuSans-48\"/>\n       <use x=\"147.412109\" xlink:href=\"#DejaVuSans-46\"/>\n       <use x=\"179.199219\" xlink:href=\"#DejaVuSans-53\"/>\n       <use x=\"242.822266\" xlink:href=\"#DejaVuSans-48\"/>\n      </g>\n     </g>\n    </g>\n    <g id=\"ytick_4\">\n     <g id=\"line2d_11\">\n      <g>\n       <use style=\"stroke:#000000;stroke-width:0.8;\" x=\"44.845313\" xlink:href=\"#m66d7f34ae4\" y=\"140.629091\"/>\n      </g>\n     </g>\n     <g id=\"text_11\">\n      <!-- −0.25 -->\n      <g transform=\"translate(7.2 144.42831)scale(0.1 -0.1)\">\n       <use xlink:href=\"#DejaVuSans-8722\"/>\n       <use x=\"83.789062\" xlink:href=\"#DejaVuSans-48\"/>\n       <use x=\"147.412109\" xlink:href=\"#DejaVuSans-46\"/>\n       <use x=\"179.199219\" xlink:href=\"#DejaVuSans-50\"/>\n       <use x=\"242.822266\" xlink:href=\"#DejaVuSans-53\"/>\n      </g>\n     </g>\n    </g>\n    <g id=\"ytick_5\">\n     <g id=\"line2d_12\">\n      <g>\n       <use style=\"stroke:#000000;stroke-width:0.8;\" x=\"44.845313\" xlink:href=\"#m66d7f34ae4\" y=\"115.92\"/>\n      </g>\n     </g>\n     <g id=\"text_12\">\n      <!-- 0.00 -->\n      <g transform=\"translate(15.579688 119.719219)scale(0.1 -0.1)\">\n       <use xlink:href=\"#DejaVuSans-48\"/>\n       <use x=\"63.623047\" xlink:href=\"#DejaVuSans-46\"/>\n       <use x=\"95.410156\" xlink:href=\"#DejaVuSans-48\"/>\n       <use x=\"159.033203\" xlink:href=\"#DejaVuSans-48\"/>\n      </g>\n     </g>\n    </g>\n    <g id=\"ytick_6\">\n     <g id=\"line2d_13\">\n      <g>\n       <use style=\"stroke:#000000;stroke-width:0.8;\" x=\"44.845313\" xlink:href=\"#m66d7f34ae4\" y=\"91.210909\"/>\n      </g>\n     </g>\n     <g id=\"text_13\">\n      <!-- 0.25 -->\n      <g transform=\"translate(15.579688 95.010128)scale(0.1 -0.1)\">\n       <use xlink:href=\"#DejaVuSans-48\"/>\n       <use x=\"63.623047\" xlink:href=\"#DejaVuSans-46\"/>\n       <use x=\"95.410156\" xlink:href=\"#DejaVuSans-50\"/>\n       <use x=\"159.033203\" xlink:href=\"#DejaVuSans-53\"/>\n      </g>\n     </g>\n    </g>\n    <g id=\"ytick_7\">\n     <g id=\"line2d_14\">\n      <g>\n       <use style=\"stroke:#000000;stroke-width:0.8;\" x=\"44.845313\" xlink:href=\"#m66d7f34ae4\" y=\"66.501818\"/>\n      </g>\n     </g>\n     <g id=\"text_14\">\n      <!-- 0.50 -->\n      <g transform=\"translate(15.579688 70.301037)scale(0.1 -0.1)\">\n       <use xlink:href=\"#DejaVuSans-48\"/>\n       <use x=\"63.623047\" xlink:href=\"#DejaVuSans-46\"/>\n       <use x=\"95.410156\" xlink:href=\"#DejaVuSans-53\"/>\n       <use x=\"159.033203\" xlink:href=\"#DejaVuSans-48\"/>\n      </g>\n     </g>\n    </g>\n    <g id=\"ytick_8\">\n     <g id=\"line2d_15\">\n      <g>\n       <use style=\"stroke:#000000;stroke-width:0.8;\" x=\"44.845313\" xlink:href=\"#m66d7f34ae4\" y=\"41.792727\"/>\n      </g>\n     </g>\n     <g id=\"text_15\">\n      <!-- 0.75 -->\n      <g transform=\"translate(15.579688 45.591946)scale(0.1 -0.1)\">\n       <use xlink:href=\"#DejaVuSans-48\"/>\n       <use x=\"63.623047\" xlink:href=\"#DejaVuSans-46\"/>\n       <use x=\"95.410156\" xlink:href=\"#DejaVuSans-55\"/>\n       <use x=\"159.033203\" xlink:href=\"#DejaVuSans-53\"/>\n      </g>\n     </g>\n    </g>\n    <g id=\"ytick_9\">\n     <g id=\"line2d_16\">\n      <g>\n       <use style=\"stroke:#000000;stroke-width:0.8;\" x=\"44.845313\" xlink:href=\"#m66d7f34ae4\" y=\"17.083636\"/>\n      </g>\n     </g>\n     <g id=\"text_16\">\n      <!-- 1.00 -->\n      <g transform=\"translate(15.579688 20.882855)scale(0.1 -0.1)\">\n       <use xlink:href=\"#DejaVuSans-49\"/>\n       <use x=\"63.623047\" xlink:href=\"#DejaVuSans-46\"/>\n       <use x=\"95.410156\" xlink:href=\"#DejaVuSans-48\"/>\n       <use x=\"159.033203\" xlink:href=\"#DejaVuSans-48\"/>\n      </g>\n     </g>\n    </g>\n   </g>\n   <g id=\"line2d_17\">\n    <path clip-path=\"url(#p9152da90be)\" d=\"M 262.972585 224.64 \nL 262.972585 7.2 \n\" style=\"fill:none;stroke:#ff0000;stroke-linecap:square;stroke-width:1.5;\"/>\n   </g>\n   <g id=\"line2d_18\">\n    <path clip-path=\"url(#p9152da90be)\" d=\"M 44.845313 115.92 \nL 379.645313 115.92 \n\" style=\"fill:none;stroke:#0000ff;stroke-linecap:square;stroke-width:1.5;\"/>\n   </g>\n   <g id=\"patch_3\">\n    <path d=\"M 44.845313 224.64 \nL 44.845313 7.2 \n\" style=\"fill:none;stroke:#000000;stroke-linecap:square;stroke-linejoin:miter;stroke-width:0.8;\"/>\n   </g>\n   <g id=\"patch_4\">\n    <path d=\"M 379.645313 224.64 \nL 379.645313 7.2 \n\" style=\"fill:none;stroke:#000000;stroke-linecap:square;stroke-linejoin:miter;stroke-width:0.8;\"/>\n   </g>\n   <g id=\"patch_5\">\n    <path d=\"M 44.845312 224.64 \nL 379.645313 224.64 \n\" style=\"fill:none;stroke:#000000;stroke-linecap:square;stroke-linejoin:miter;stroke-width:0.8;\"/>\n   </g>\n   <g id=\"patch_6\">\n    <path d=\"M 44.845312 7.2 \nL 379.645313 7.2 \n\" style=\"fill:none;stroke:#000000;stroke-linecap:square;stroke-linejoin:miter;stroke-width:0.8;\"/>\n   </g>\n  </g>\n </g>\n <defs>\n  <clipPath id=\"p9152da90be\">\n   <rect height=\"217.44\" width=\"334.8\" x=\"44.845313\" y=\"7.2\"/>\n  </clipPath>\n </defs>\n</svg>\n",
      "image/png": "[encoded data removed]"
     },
     "metadata": {
      "needs_background": "light"
     }
    }
   ],
   "source": [
    "import matplotlib.pyplot as plt\n",
    "plt.scatter(x=[-1,-1,2], y=[1,-1,0], marker='o')\n",
    "plt.axvline(x=1, label='y2', c='r')\n",
    "plt.axhline(y=0, label='y1', c='b')"
   ]
  },
  {
   "source": [
    "### (b) Logistic Regression\n",
    "#### (1) \n",
    "$$ P(C_{i}=1|x_{i},w,w_{0}) = \\frac{1}{1+e^{-\\mathbf{w}^T \\mathbf{x}_{i}+ w_{0}}}$$\n",
    "$$ P(C_{i}=0|x_{i},w,w_{0}) = \\frac{1}{1+e^{\\mathbf{w}^T\\mathbf{x}_{i}+w_{0}}}$$\n",
    "#### (2)\n",
    "$$ P(D_{c}|D_{x}, \\mathbf{w}, w_{0}) = \\prod_{i=1}^N P(C_{i}=1|x_{i},w,w_{0})^c_{i} + P(C_{i}=0|x_{i},w,w_{0})^(1-c_{i}) $$\n",
    "$$ log P(D_{c}|D_{x}, \\mathbf{w}, w_{0}) = \\sum_{i=1}^N c_{i} log P(C_{i}=1|x_{i},w,w_{0}) + (1-c_{i}) log P(C_{i}=0|x_{i},w,w_{0}) $$\n",
    "Based on equations in (1), we can rewrite:\n",
    "$$ log P(D_{c}|D_{x}, \\mathbf{w}, w_{0}) = \\sum_{i=1}^N c_{i} log \\frac{1}{1+e^{-\\mathbf{w}^T \\mathbf{x}_{i}+ w_{0}}} + (1-c_{i}) log \\frac{1}{1+e^{\\mathbf{w}^T\\mathbf{x}_{i}+w_{0}}} $$\n",
    "that is, \n",
    "$$ log P(D_{c}|D_{x}, \\mathbf{w}, w_{0}) = \\sum_{i=1}^N c_{i} log \\frac{1}{1+e^{-\\mathbf{w}^T \\mathbf{x}_{i}+ w_{0}}} + (1-c_{i}) log (1 - \\frac{1}{1+e^{-\\mathbf{w}^T\\mathbf{x}_{i}+w_{0}}}) $$\n",
    "now we have, \n",
    "$$ log P(D_{c}|D_{x}, \\mathbf{w}, w_{0}) = \\sum_{i=1}^N c_{i} log g(\\mathbf{w}, \\mathbf{x}_{i}, w_{0}) + (1-c_{i}) log (1-g(\\mathbf{w}, \\mathbf{x}_{i}, w_{0})) $$\n",
    "so we can get\n",
    "$$ g(x) = \\sigma = \\frac{1}{1+e^{-z}} $$\n",
    "\n",
    "#### (3)\n",
    "Steps to solve the maximization problem of the likelihood function:\n",
    "- Initiate a set of values for $\\mathbf{w}, w_{0}$;\n",
    "- Calculate the derivative (or the gradient) of the likelihood function in terms of\n",
    "$\\mathbf{w}, w_{0}$:\n",
    "$$ \\nabla_{\\mathbf{w}} log P(D_{c}|D_{x}, \\mathbf{w}, w_{0}) $$\n",
    "and\n",
    "$$ \\frac{\\partial}{\\partial_{w_{0}}} log P(D_{c}|D_{x}, \\mathbf{w}, w_{0}) $$\n",
    "- Add the graident to the values of $\\mathbf{w}, w_{0}$:\n",
    "$$\\mathbf{w}, w_{0} := \\mathbf{w}+ \\alpha(\\nabla_{\\mathbf{w}} log P(D_{c}|D_{x}, \\mathbf{w}, w_{0})), w_{0} + \\alpha(\\frac{\\partial}{\\partial_{w_{0}}} log P(D_{c}|D_{x}, \\mathbf{w}, w_{0}))$$\n",
    "- Do the validation test and try different learning rates between 0.00001 to 100 and choose the best one that can train the model fast and has relatively goof accuracy. Initiate different values for the original $\\mathbf{w}, w_{0}$ to avoid local maxima."
   ],
   "cell_type": "markdown",
   "metadata": {}
  },
  {
   "source": [
    "### 3. (a) KNN\n",
    "\n",
    "#### (1)\n",
    "- For a new data point given its values of $x_{1}, x_{2}$, to predict $x_{3}$, we can:\n",
    "  - based on the traning set, find the $k$ nearest data points to the new data. The distance can be measured by Euclidean distance ($\\sum_{l=1}^2 (|x_{i}^{l} - x_{j}^{l}|^2)^{\\frac{1}{2}}$) or other methods;\n",
    "  - calculate the average valu of the $x_{3}$ of the $k$ nearest data points as the prediction for the new data.\n",
    "- We can determine the value of $k$ by cross-validation.\n",
    "\n",
    "#### (2)\n",
    "The 2 nearest neighbors of M are: E and G; for N, two nearest points are J and K (skip the calculation process); calculate the mean value of $x_{3}$ and we get the predictions:\n",
    "$$ M \\rightarrow 9 $$\n",
    "$$ N \\rightarrow 1 $$\n",
    "\n",
    "#### (3)\n",
    "skip\n",
    "https://www.youtube.com/watch?v=ivdmGcZo6U8"
   ],
   "cell_type": "markdown",
   "metadata": {}
  },
  {
   "source": [
    "### (b) Naive Bayes\n",
    "\n",
    "#### (1)\n",
    "$$ P(y=1|x_{1}=0, x_{2}=1, x_{3}=0) = \\frac{P(y=1)P(x_{1}=0, x_{2}=1, x_{3}=0|y=1)}{P(y=0)P(x_{1}=0, x_{2}=1, x_{3}=0|y=1)+P(y=1)P(x_{1}=0, x_{2}=1, x_{3}=0|y=1)} $$\n",
    "We know that:\n",
    "$$ P(y=1) = \\frac{2}{5}, P(y=0) = \\frac{3}{5} $$\n",
    "and\n",
    "$$ P(x_{1}=0, x_{2}=1, x_{3}=0|y=1) = \\frac{0+1}{4+2} $$\n",
    "$$ P(x_{1}=0, x_{2}=1, x_{3}=0|y=0) = \\frac{1+1}{6+2} $$\n",
    "therefore,\n",
    "$$ P(y=1|x_{1}=0, x_{2}=1, x_{3}=0) = \\frac{1}{15} $$\n",
    "\n",
    "#### (2)\n",
    "$$ P(y=1|x_{2}=1) = \\frac{P(y=1)P(x_{2}=1)}{P(y=0)P(x_{2}=1|y=1)+P(y=1)P(x_{2}=1|y=1)} $$\n",
    "$$ = \\frac{\\frac{2*1}{5*4}}{\\frac{2*1}{5*4} + \\frac{3*4}{5*6}} $$\n",
    "$$ = \\frac{1}{5} $$\n",
    "\n",
    "#### (3)\n",
    "violate the conditional independence assumption of Naive Bayes; using Gaussian Naive Bayes would be better.\n",
    "\n",
    "#### (4) ?"
   ],
   "cell_type": "markdown",
   "metadata": {}
  },
  {
   "cell_type": "code",
   "execution_count": null,
   "metadata": {},
   "outputs": [],
   "source": []
  },
  {
   "source": [
    "Reference:https://stats.idre.ucla.edu/other/mult-pkg/whatstat/what-is-the-difference-between-categorical-ordinal-and-interval-variables/"
   ],
   "cell_type": "markdown",
   "metadata": {}
  }
 ]
}