{
 "metadata": {
  "language_info": {
   "codemirror_mode": {
    "name": "ipython",
    "version": 3
   },
   "file_extension": ".py",
   "mimetype": "text/x-python",
   "name": "python",
   "nbconvert_exporter": "python",
   "pygments_lexer": "ipython3",
   "version": 3
  },
  "orig_nbformat": 2
 },
 "nbformat": 4,
 "nbformat_minor": 2,
 "cells": [
  {
   "source": [
    "### 1. Model\n",
    "- Assume the sample set $X = {x_1, x_2,..., x_n}$, the dimension of the set is $m$. The model $C(i)$ is:\n",
    "l = $C(i)$, where $i \\in {1,2,...,n}$, $l \\in {1,2,...,k}$"
   ],
   "cell_type": "markdown",
   "metadata": {}
  },
  {
   "source": [
    "### 2. Strategy\n",
    "- The strategy to pick up the optimal model is to minimize the loss function. Assume we use squred Euclidean distance to measure the distances between each two samples:\n",
    "$$ d(x_{i}, x_{j}) = \\sum_{k=1}^m (x_{ki} - x_{kj})^2 $$\n",
    "- The loss function is the computation of the sum of distances between each sample to the centroid of the cluster that the sample belongs to, that is, the aggregate intra-cluster distance:\n",
    "$$ W(C) = \\sum_{l=1}^k \\sum_{C(i)=l} d(x_{i}, c_{l}) $$\n",
    "$$ W(C) = \\sum_{l=1}^k \\sum_{C(i)=l} ||x_{i} - c_{l}||^2 $$"
   ],
   "cell_type": "markdown",
   "metadata": {}
  },
  {
   "source": [
    "### 3. Algorithm\n",
    "- In practice, the iterative method is often used to solve the loss function:\n",
    "- ```Step 1:``` Choose k centroids and assign each sample to its nearest centroid and get a clustering result. Given the centroids ($c_{1}, c_{2}, c_{3},..., c_{k}$), we minimize the loss function to get the optimal model $C(i)$:\n",
    "$$ \\min_{C} \\sum_{l=1}^k \\sum_{C(i)=l} ||x_i - c_l||^2 $$\n",
    "With the model $C(i)$, we can assign each the sample point to its cluster.\n",
    "- ```Step 2:``` Update the centroid of each cluster to the mean of the sample in the cluster (new centroid $c_l$ is the mean of all points $x_i$ assigned to cluster $l$ in the previous step): \n",
    "$$ c_l = \\frac{1}{n_l} \\sum_{C(i)=l} x_i $$\n",
    "- Repeat the steps below until none of the cluster assignments change.\n",
    "<p align=\"center\">\n",
    "<img src=images/3.1.1.png width=\"400\" height=\"300\" alt=\"5\" align=centering>"
   ],
   "cell_type": "markdown",
   "metadata": {}
  },
  {
   "source": [
    "### Example:\n",
    "$$ X=$$\n",
    "$\n",
    " \\left[\n",
    " \\begin{matrix}\n",
    "   0 & 0 & 1 & 5 & 5 \\\\\n",
    "   2 & 0 & 0 & 0 & 2 \\\\\n",
    "  \\end{matrix}\n",
    "  \\right] \\tag{3}\n",
    "$\n",
    "Assume $K=2$, cluster these samples.\n",
    "\n",
    "- Step 1: initiate two original centroids and assign each sample to the cluster that its nearest centroid belong to.\n",
    "  - Assume two original centroids are $c_{1} = (0,0) = x_{2}$ and $c_{2} = (5,0) = x_{4}$;\n",
    "  - Calculate the distances between each sample and these centroids:\n",
    "    - $d(x_{1}, c_{1}) = 4, d(x_{1}, c_{2}) = 29$, assgined to cluster 1\n",
    "    - $d(x_{2}, c_{1}) = 0, d(x_{2}, c_{2}) = 25$, assgined to cluster 1\n",
    "    - $d(x_{3}, c_{1}) = 1, d(x_{3}, c_{2}) = 16$, assgined to cluster 1\n",
    "    - $d(x_{4}, c_{1}) = 25, d(x_{4}, c_{2}) = 0$, assgined to cluster 2\n",
    "    - $d(x_{5}, c_{1}) = 29, d(x_{5}, c_{2}) = 4$, assgined to cluster 2\n",
    "  - Get the new clsuter result: $G_{1} = {1,2,3}, G_{2} = {4,5}$\n",
    "- Step 2: update the new centroids and assign each sample to the cluster that its nearest centroid belong to.\n",
    " - New centroids: $c_{1} = (\\frac{1}{3},\\frac{2}{3}) $ and $c_{2} = (5,1)$;\n",
    " - Calculate the distances and assign the samples;\n",
    " - Stop until no cluster assignment changes."
   ],
   "cell_type": "markdown",
   "metadata": {}
  },
  {
   "source": [],
   "cell_type": "markdown",
   "metadata": {}
  }
 ]
}