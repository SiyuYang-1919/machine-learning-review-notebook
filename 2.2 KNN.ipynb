{
 "metadata": {
  "language_info": {
   "codemirror_mode": {
    "name": "ipython",
    "version": 3
   },
   "file_extension": ".py",
   "mimetype": "text/x-python",
   "name": "python",
   "nbconvert_exporter": "python",
   "pygments_lexer": "ipython3",
   "version": 3
  },
  "orig_nbformat": 2
 },
 "nbformat": 4,
 "nbformat_minor": 2,
 "cells": [
  {
   "source": [
    "### 1. Model\n",
    "The model is a classification function:\n",
    "$$ f: R^{n} \\rightarrow {c_{1}, c_{2}, ..., c_{K}} $$\n",
    "\n",
    "### 2. Strategy\n",
    "The probability of misclassification:\n",
    "$$ P(Y != f(X)) = 1 - P(Y=f(X)) $$\n",
    "Assuming training sample $x \\in X$, k nearest samples make up a set $ N_{k}(x) $, if $ N_{k}(x) $ is in the area $ c_{j} $, then the probability of misclassification can be expressed as:\n",
    "$$ \\frac{1}{k} \\sum_{x_{i} \\in N_{k}(x)} I(c_{j} != y_{i}) $$\n",
    "$$ = 1 - \\frac{1}{k} \\sum_{x_{i} \\in N_{k}(x)} I(c_{j} = y_{i}) $$\n",
    "The strategy is to minimize the probability of misclassification, that is, maximize $$\\sum_{x_{i} \\in N_{k}(x)} I(c_{j} = y_{i})$$\n",
    "In this case, $ N_{k}(x) $ should have the largest overlap with the area $ c_{j} $, in other words, using the majority voting rule."
   ],
   "cell_type": "markdown",
   "metadata": {}
  },
  {
   "source": [
    "### 3. Algorithm"
   ],
   "cell_type": "markdown",
   "metadata": {}
  }
 ]
}